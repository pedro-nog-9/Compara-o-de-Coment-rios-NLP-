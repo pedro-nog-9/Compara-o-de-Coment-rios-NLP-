{
 "cells": [
  {
   "cell_type": "code",
   "execution_count": 1,
   "id": "6b040a52",
   "metadata": {},
   "outputs": [],
   "source": [
    "import pandas as pd"
   ]
  },
  {
   "cell_type": "code",
   "execution_count": 2,
   "id": "07e454c5",
   "metadata": {},
   "outputs": [],
   "source": [
    "def retiraAleatorio(dados, n):\n",
    "    sampled_df = dados.sample(n)\n",
    "    return sampled_df"
   ]
  },
  {
   "cell_type": "code",
   "execution_count": 3,
   "id": "1b496cb0",
   "metadata": {},
   "outputs": [],
   "source": [
    "def desembaraca(dados_originais, dados_misturados):\n",
    "    dados_inseridos = pd.merge(dados_misturados, dados_originais, how='left', indicator=True)\n",
    "    penteamento = dados_inseridos[dados_inseridos['_merge'] == 'left_only']\n",
    "    apenas_inseridos = penteamento.drop(columns='_merge')\n",
    "    return apenas_inseridos"
   ]
  },
  {
   "cell_type": "code",
   "execution_count": 4,
   "id": "aa78c627",
   "metadata": {},
   "outputs": [],
   "source": [
    "def comparaRotulos(dados_treinamento, dados_resultados):\n",
    "    comentarios_avaliaveis = pd.merge(dados_treinamento['Comentarios'], dados_resultados['Comentarios'])\n",
    "    # Adiciona a coluna \"Rotulos_Corretos\" em Comentarios_Avaliaveis\n",
    "    comentarios_avaliaveis['Rotulos_Corretos'] = comentarios_avaliaveis.apply(lambda row: dados_treinamento.loc[dados_treinamento['Comentarios'] == row['Comentarios'], 'Rotulo'].values[0] if row['Comentarios'] in dados_treinamento['Comentarios'].values else None, axis=1)\n",
    "    \n",
    "    # Adiciona a coluna \"Rotulos_Preditos\" em Comentarios_Avaliaveis\n",
    "    comentarios_avaliaveis['Rotulos_Preditos'] = comentarios_avaliaveis.apply(lambda row: dados_resultados.loc[dados_resultados['Comentarios'] == row['Comentarios'], 'Rotulos'].values[0] if row['Comentarios'] in dados_resultados['Comentarios'].values else None, axis=1)\n",
    "    comentarios_avaliaveis['Comparacao'] = comentarios_avaliaveis.apply(lambda row: 'Correto' if row['Rotulos_Corretos'] == row['Rotulos_Preditos'] else 'Errado', axis=1)\n",
    "    num_corretos = comentarios_avaliaveis['Comparacao'].value_counts().get('Correto', 0)\n",
    "    porcentagem_corretos = (num_corretos / len(comentarios_avaliaveis)) * 100\n",
    "    print(f\"A porcentagem de valores 'corretos' é: {porcentagem_corretos.round(2)}%\")\n",
    "    return comentarios_avaliaveis"
   ]
  },
  {
   "cell_type": "code",
   "execution_count": 5,
   "id": "037c53d3",
   "metadata": {},
   "outputs": [],
   "source": [
    "resultados = pd.read_csv('resultados_reais_3')"
   ]
  },
  {
   "cell_type": "code",
   "execution_count": 6,
   "id": "c66f0e08",
   "metadata": {},
   "outputs": [],
   "source": [
    "dados_treinamento = pd.read_csv('dados_para_treinamento.csv')"
   ]
  },
  {
   "cell_type": "code",
   "execution_count": 7,
   "id": "941453fd",
   "metadata": {},
   "outputs": [
    {
     "name": "stdout",
     "output_type": "stream",
     "text": [
      "A porcentagem de valores 'corretos' é: 61.18%\n"
     ]
    }
   ],
   "source": [
    "comentarios = comparaRotulos(dados_treinamento, resultados)"
   ]
  },
  {
   "cell_type": "code",
   "execution_count": 12,
   "id": "6a915872",
   "metadata": {},
   "outputs": [],
   "source": [
    "# resultados['Rotulos'].replace('Não atendeu as espectativas', 'Não atendeu as expectativas', inplace=True)"
   ]
  },
  {
   "cell_type": "code",
   "execution_count": 8,
   "id": "f4348bb0",
   "metadata": {},
   "outputs": [
    {
     "data": {
      "text/html": [
       "<div>\n",
       "<style scoped>\n",
       "    .dataframe tbody tr th:only-of-type {\n",
       "        vertical-align: middle;\n",
       "    }\n",
       "\n",
       "    .dataframe tbody tr th {\n",
       "        vertical-align: top;\n",
       "    }\n",
       "\n",
       "    .dataframe thead th {\n",
       "        text-align: right;\n",
       "    }\n",
       "</style>\n",
       "<table border=\"1\" class=\"dataframe\">\n",
       "  <thead>\n",
       "    <tr style=\"text-align: right;\">\n",
       "      <th></th>\n",
       "      <th>Comentarios</th>\n",
       "      <th>Rotulos_Corretos</th>\n",
       "      <th>Rotulos_Preditos</th>\n",
       "      <th>Comparacao</th>\n",
       "    </tr>\n",
       "  </thead>\n",
       "  <tbody>\n",
       "    <tr>\n",
       "      <th>0</th>\n",
       "      <td>Vejam só, o celular lg b22 que comprei em jane...</td>\n",
       "      <td>Surgimento de um Problema</td>\n",
       "      <td>Surgimento de um Problema</td>\n",
       "      <td>Correto</td>\n",
       "    </tr>\n",
       "    <tr>\n",
       "      <th>1</th>\n",
       "      <td>A bateria dura pouco, e pra um telefone desse ...</td>\n",
       "      <td>Não atendeu as expectativas</td>\n",
       "      <td>Surgimento de um Problema</td>\n",
       "      <td>Errado</td>\n",
       "    </tr>\n",
       "    <tr>\n",
       "      <th>2</th>\n",
       "      <td>Comprei pra minha achando que era o original i...</td>\n",
       "      <td>Não atendeu as expectativas</td>\n",
       "      <td>Surgimento de um Problema</td>\n",
       "      <td>Errado</td>\n",
       "    </tr>\n",
       "    <tr>\n",
       "      <th>3</th>\n",
       "      <td>O produto não é de boa qualidade e não é cadas...</td>\n",
       "      <td>Surgimento de um Problema</td>\n",
       "      <td>Não atendeu as expectativas</td>\n",
       "      <td>Errado</td>\n",
       "    </tr>\n",
       "    <tr>\n",
       "      <th>4</th>\n",
       "      <td>O aparelho não sei o porquê a bateria acaba mu...</td>\n",
       "      <td>Não atendeu as expectativas</td>\n",
       "      <td>Satisfeito</td>\n",
       "      <td>Errado</td>\n",
       "    </tr>\n",
       "    <tr>\n",
       "      <th>...</th>\n",
       "      <td>...</td>\n",
       "      <td>...</td>\n",
       "      <td>...</td>\n",
       "      <td>...</td>\n",
       "    </tr>\n",
       "    <tr>\n",
       "      <th>2473</th>\n",
       "      <td>Essa séria uma compra que com certeza faria no...</td>\n",
       "      <td>Satisfeito</td>\n",
       "      <td>Satisfeito</td>\n",
       "      <td>Correto</td>\n",
       "    </tr>\n",
       "    <tr>\n",
       "      <th>2474</th>\n",
       "      <td>O telefone é excelente.</td>\n",
       "      <td>Satisfeito</td>\n",
       "      <td>Satisfeito</td>\n",
       "      <td>Correto</td>\n",
       "    </tr>\n",
       "    <tr>\n",
       "      <th>2475</th>\n",
       "      <td>Gostei muito supriu minhas expectativas.</td>\n",
       "      <td>Satisfeito</td>\n",
       "      <td>Surgimento de um Problema</td>\n",
       "      <td>Errado</td>\n",
       "    </tr>\n",
       "    <tr>\n",
       "      <th>2476</th>\n",
       "      <td>Ótimo 👍.</td>\n",
       "      <td>Satisfeito</td>\n",
       "      <td>Satisfeito</td>\n",
       "      <td>Correto</td>\n",
       "    </tr>\n",
       "    <tr>\n",
       "      <th>2477</th>\n",
       "      <td>Eu achei muito bom custo benefício e top até o...</td>\n",
       "      <td>Satisfeito</td>\n",
       "      <td>Não atendeu as expectativas</td>\n",
       "      <td>Errado</td>\n",
       "    </tr>\n",
       "  </tbody>\n",
       "</table>\n",
       "<p>2478 rows × 4 columns</p>\n",
       "</div>"
      ],
      "text/plain": [
       "                                            Comentarios  \\\n",
       "0     Vejam só, o celular lg b22 que comprei em jane...   \n",
       "1     A bateria dura pouco, e pra um telefone desse ...   \n",
       "2     Comprei pra minha achando que era o original i...   \n",
       "3     O produto não é de boa qualidade e não é cadas...   \n",
       "4     O aparelho não sei o porquê a bateria acaba mu...   \n",
       "...                                                 ...   \n",
       "2473  Essa séria uma compra que com certeza faria no...   \n",
       "2474                            O telefone é excelente.   \n",
       "2475           Gostei muito supriu minhas expectativas.   \n",
       "2476                                           Ótimo 👍.   \n",
       "2477  Eu achei muito bom custo benefício e top até o...   \n",
       "\n",
       "                 Rotulos_Corretos             Rotulos_Preditos Comparacao  \n",
       "0       Surgimento de um Problema    Surgimento de um Problema    Correto  \n",
       "1     Não atendeu as expectativas    Surgimento de um Problema     Errado  \n",
       "2     Não atendeu as expectativas    Surgimento de um Problema     Errado  \n",
       "3       Surgimento de um Problema  Não atendeu as expectativas     Errado  \n",
       "4     Não atendeu as expectativas                   Satisfeito     Errado  \n",
       "...                           ...                          ...        ...  \n",
       "2473                   Satisfeito                   Satisfeito    Correto  \n",
       "2474                   Satisfeito                   Satisfeito    Correto  \n",
       "2475                   Satisfeito    Surgimento de um Problema     Errado  \n",
       "2476                   Satisfeito                   Satisfeito    Correto  \n",
       "2477                   Satisfeito  Não atendeu as expectativas     Errado  \n",
       "\n",
       "[2478 rows x 4 columns]"
      ]
     },
     "execution_count": 8,
     "metadata": {},
     "output_type": "execute_result"
    }
   ],
   "source": [
    "comentarios"
   ]
  },
  {
   "cell_type": "code",
   "execution_count": 9,
   "id": "cd8d6d84",
   "metadata": {},
   "outputs": [
    {
     "data": {
      "text/plain": [
       "count        2478\n",
       "unique          2\n",
       "top       Correto\n",
       "freq         1516\n",
       "Name: Comparacao, dtype: object"
      ]
     },
     "execution_count": 9,
     "metadata": {},
     "output_type": "execute_result"
    }
   ],
   "source": [
    "comentarios['Comparacao'].describe()"
   ]
  },
  {
   "cell_type": "code",
   "execution_count": 11,
   "id": "127dcacf",
   "metadata": {},
   "outputs": [
    {
     "data": {
      "text/plain": [
       "0.5205761316872428"
      ]
     },
     "execution_count": 11,
     "metadata": {},
     "output_type": "execute_result"
    }
   ],
   "source": [
    "506/972"
   ]
  },
  {
   "cell_type": "code",
   "execution_count": 2,
   "id": "50a22eca",
   "metadata": {},
   "outputs": [],
   "source": [
    "dados_iphone = pd.read_csv('comentarios_iphone_11.csv')"
   ]
  },
  {
   "cell_type": "code",
   "execution_count": 5,
   "id": "39954836",
   "metadata": {},
   "outputs": [],
   "source": [
    "iphone_mais_reamostragem = pd.concat([dados_treinamento, dados_iphone])"
   ]
  },
  {
   "cell_type": "code",
   "execution_count": 6,
   "id": "a7b6e0aa",
   "metadata": {},
   "outputs": [],
   "source": [
    "iphone_mais_reamostragem = iphone_mais_reamostragem.reset_index(drop=True)"
   ]
  },
  {
   "cell_type": "code",
   "execution_count": 7,
   "id": "f3f2d87a",
   "metadata": {},
   "outputs": [],
   "source": [
    "iphone_mais_reamostragem.to_csv('iphone11_mais_reamostragem.csv', index=False)"
   ]
  },
  {
   "cell_type": "code",
   "execution_count": null,
   "id": "47c90500",
   "metadata": {},
   "outputs": [],
   "source": []
  }
 ],
 "metadata": {
  "kernelspec": {
   "display_name": "Python 3 (ipykernel)",
   "language": "python",
   "name": "python3"
  },
  "language_info": {
   "codemirror_mode": {
    "name": "ipython",
    "version": 3
   },
   "file_extension": ".py",
   "mimetype": "text/x-python",
   "name": "python",
   "nbconvert_exporter": "python",
   "pygments_lexer": "ipython3",
   "version": "3.9.13"
  }
 },
 "nbformat": 4,
 "nbformat_minor": 5
}
