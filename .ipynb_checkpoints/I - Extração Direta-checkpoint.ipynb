{
 "cells": [
  {
   "cell_type": "code",
   "execution_count": 2,
   "id": "40ae8b4f",
   "metadata": {},
   "outputs": [
    {
     "name": "stdout",
     "output_type": "stream",
     "text": [
      "Collecting selenium\n",
      "  Downloading selenium-4.9.1-py3-none-any.whl (6.6 MB)\n",
      "     ---------------------------------------- 6.6/6.6 MB 2.9 MB/s eta 0:00:00\n",
      "Requirement already satisfied: urllib3[socks]<3,>=1.26 in c:\\users\\pedro\\anaconda3\\lib\\site-packages (from selenium) (1.26.14)\n",
      "Collecting trio~=0.17\n",
      "  Downloading trio-0.22.0-py3-none-any.whl (384 kB)\n",
      "     -------------------------------------- 384.9/384.9 kB 2.4 MB/s eta 0:00:00\n",
      "Requirement already satisfied: certifi>=2021.10.8 in c:\\users\\pedro\\anaconda3\\lib\\site-packages (from selenium) (2023.5.7)\n",
      "Collecting trio-websocket~=0.9\n",
      "  Downloading trio_websocket-0.10.2-py3-none-any.whl (17 kB)\n",
      "Collecting exceptiongroup>=1.0.0rc9\n",
      "  Downloading exceptiongroup-1.1.1-py3-none-any.whl (14 kB)\n",
      "Requirement already satisfied: cffi>=1.14 in c:\\users\\pedro\\anaconda3\\lib\\site-packages (from trio~=0.17->selenium) (1.15.1)\n",
      "Requirement already satisfied: attrs>=19.2.0 in c:\\users\\pedro\\anaconda3\\lib\\site-packages (from trio~=0.17->selenium) (22.1.0)\n",
      "Collecting async-generator>=1.9\n",
      "  Downloading async_generator-1.10-py3-none-any.whl (18 kB)\n",
      "Requirement already satisfied: sortedcontainers in c:\\users\\pedro\\anaconda3\\lib\\site-packages (from trio~=0.17->selenium) (2.4.0)\n",
      "Collecting outcome\n",
      "  Downloading outcome-1.2.0-py2.py3-none-any.whl (9.7 kB)\n",
      "Requirement already satisfied: idna in c:\\users\\pedro\\anaconda3\\lib\\site-packages (from trio~=0.17->selenium) (3.4)\n",
      "Requirement already satisfied: sniffio in c:\\users\\pedro\\anaconda3\\lib\\site-packages (from trio~=0.17->selenium) (1.2.0)\n",
      "Collecting wsproto>=0.14\n",
      "  Downloading wsproto-1.2.0-py3-none-any.whl (24 kB)\n",
      "Requirement already satisfied: PySocks!=1.5.7,<2.0,>=1.5.6 in c:\\users\\pedro\\anaconda3\\lib\\site-packages (from urllib3[socks]<3,>=1.26->selenium) (1.7.1)\n",
      "Requirement already satisfied: pycparser in c:\\users\\pedro\\anaconda3\\lib\\site-packages (from cffi>=1.14->trio~=0.17->selenium) (2.21)\n",
      "Collecting h11<1,>=0.9.0\n",
      "  Downloading h11-0.14.0-py3-none-any.whl (58 kB)\n",
      "     ---------------------------------------- 58.3/58.3 kB 1.0 MB/s eta 0:00:00\n",
      "Installing collected packages: outcome, h11, exceptiongroup, async-generator, wsproto, trio, trio-websocket, selenium\n",
      "Successfully installed async-generator-1.10 exceptiongroup-1.1.1 h11-0.14.0 outcome-1.2.0 selenium-4.9.1 trio-0.22.0 trio-websocket-0.10.2 wsproto-1.2.0\n"
     ]
    }
   ],
   "source": [
    "!pip install selenium"
   ]
  },
  {
   "cell_type": "code",
   "execution_count": 3,
   "id": "ad59b877",
   "metadata": {},
   "outputs": [],
   "source": [
    "import requests\n",
    "from bs4 import BeautifulSoup\n",
    "from selenium import webdriver\n",
    "from selenium.webdriver.chrome.options import Options\n",
    "from selenium.webdriver.common.by import By\n",
    "from selenium.webdriver.common.keys import Keys\n",
    "from time import sleep\n",
    "import pandas as pd"
   ]
  },
  {
   "cell_type": "code",
   "execution_count": 4,
   "id": "15bf73cf",
   "metadata": {},
   "outputs": [],
   "source": [
    "def extratora(link):\n",
    "    lista=[]\n",
    "    response = requests.get(link)\n",
    "    site = BeautifulSoup(response.text, 'html.parser')\n",
    "    comentarios = site.findAll('p', attrs = {'class':'ui-review-capability-comments__comment__content'})\n",
    "    for comentario in comentarios:\n",
    "        lista.append(comentario.text)\n",
    "    return lista"
   ]
  },
  {
   "cell_type": "code",
   "execution_count": 5,
   "id": "e1203f7c",
   "metadata": {},
   "outputs": [],
   "source": [
    "def salvar(lista, titulo):\n",
    "    dataframeComentarios = pd.DataFrame(lista, columns = ['Comentarios'])\n",
    "    dataframeComentarios.to_csv(titulo+'.csv', index = False)\n",
    "    print('Salvo')"
   ]
  },
  {
   "cell_type": "code",
   "execution_count": 6,
   "id": "5a796d49",
   "metadata": {},
   "outputs": [],
   "source": [
    "def abreNavegador(link):\n",
    "    navegador = webdriver.Chrome()\n",
    "    navegador.get(link)\n",
    "    return navegador"
   ]
  },
  {
   "cell_type": "code",
   "execution_count": 7,
   "id": "14d3fac1",
   "metadata": {},
   "outputs": [],
   "source": [
    "def expansora(navegador):\n",
    "    paginaCarregada = BeautifulSoup(navegador.page_source, 'html.parser')\n",
    "    return paginaCarregada"
   ]
  },
  {
   "cell_type": "code",
   "execution_count": 8,
   "id": "88a1bd28",
   "metadata": {},
   "outputs": [],
   "source": [
    "def extratoraBs(pag):\n",
    "    comentarios=[]\n",
    "    coments = pag.findAll('p', attrs = {'class':'ui-review-capability-comments__comment__content'})\n",
    "    for coment in coments:\n",
    "        comentarios.append(coment.text)\n",
    "    return comentarios"
   ]
  },
  {
   "cell_type": "code",
   "execution_count": 9,
   "id": "062db4c6",
   "metadata": {},
   "outputs": [],
   "source": [
    "link = 'https://www.mercadolivre.com.br/noindex/catalog/reviews/MLB19781015?noIndex=true&access=view_all&modal=true&controlled=true'"
   ]
  },
  {
   "cell_type": "code",
   "execution_count": 10,
   "id": "44dcf6ea",
   "metadata": {},
   "outputs": [],
   "source": [
    "pagina = abreNavegador(link)"
   ]
  },
  {
   "cell_type": "code",
   "execution_count": 11,
   "id": "273de949",
   "metadata": {},
   "outputs": [],
   "source": [
    "paginaExpandida = expansora(pagina)"
   ]
  },
  {
   "cell_type": "code",
   "execution_count": 12,
   "id": "551cc0d2",
   "metadata": {},
   "outputs": [],
   "source": [
    "comentarios = extratoraBs(paginaExpandida)"
   ]
  },
  {
   "cell_type": "code",
   "execution_count": 13,
   "id": "e68161f9",
   "metadata": {},
   "outputs": [
    {
     "data": {
      "text/plain": [
       "159"
      ]
     },
     "execution_count": 13,
     "metadata": {},
     "output_type": "execute_result"
    }
   ],
   "source": [
    "len(comentarios)"
   ]
  },
  {
   "cell_type": "code",
   "execution_count": 15,
   "id": "44d0e4cd",
   "metadata": {},
   "outputs": [
    {
     "name": "stdout",
     "output_type": "stream",
     "text": [
      "Salvo\n"
     ]
    }
   ],
   "source": [
    "salvar(comentarios, 'moto_edge_30.csv')"
   ]
  },
  {
   "cell_type": "code",
   "execution_count": null,
   "id": "1ae576e3",
   "metadata": {},
   "outputs": [],
   "source": []
  }
 ],
 "metadata": {
  "kernelspec": {
   "display_name": "Python 3 (ipykernel)",
   "language": "python",
   "name": "python3"
  },
  "language_info": {
   "codemirror_mode": {
    "name": "ipython",
    "version": 3
   },
   "file_extension": ".py",
   "mimetype": "text/x-python",
   "name": "python",
   "nbconvert_exporter": "python",
   "pygments_lexer": "ipython3",
   "version": "3.10.9"
  }
 },
 "nbformat": 4,
 "nbformat_minor": 5
}
